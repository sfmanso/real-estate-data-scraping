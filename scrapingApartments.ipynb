{
 "cells": [
  {
   "cell_type": "code",
   "execution_count": 1,
   "id": "9a21331b-d184-4ab9-bee8-7e325ba777fc",
   "metadata": {},
   "outputs": [],
   "source": [
    "import requests\n",
    "from bs4 import BeautifulSoup\n",
    "import pandas as pd\n",
    "\n",
    "aptlist = []"
   ]
  },
  {
   "cell_type": "code",
   "execution_count": 2,
   "id": "cec384b8-0a44-42c6-a04b-46f41015deb9",
   "metadata": {},
   "outputs": [],
   "source": [
    "def extract(page):\n",
    "    request_headers = {\n",
    "        'accept': 'text/html, application/xhtml+xml, application/xml;q=0.9,image/webp, image/apng,*/*: q=0.8',\n",
    "        'accept-encoding': 'gzip, deflate, br',\n",
    "        'accept-language': 'en-US, en; q=0.8',\n",
    "        'upgrade-insecure-requests': '1',\n",
    "        'user-agent': 'Mozilla/5.0 (Windows NT 10.0; Win64; x64) AppleWebKit/537.36 (KHTML, like Gecko) Chrome/61.0.3163.100 Safari/537.36'\n",
    "    }\n",
    "\n",
    "    with requests.Session() as session:\n",
    "        url = f'https://www.apartments.com/nj/{page}'\n",
    "        response = session.get(url, headers=request_headers)\n",
    "        response_out = str(response).strip('>]<').replace('[','').split()\n",
    "    soup = BeautifulSoup(response.content, 'html.parser')\n",
    "    return soup"
   ]
  },
  {
   "cell_type": "code",
   "execution_count": 3,
   "id": "a24d30d1-fae6-41e4-aa77-033b3cabd1b3",
   "metadata": {},
   "outputs": [],
   "source": [
    "def transform(soup):\n",
    "    apartments = soup.find_all('article', class_ = 'placard placard-option-diamond has-header js-diamond')\n",
    "    for apartment in apartments:\n",
    "        title = apartment.find('span').text.strip()\n",
    "        address = apartment.find('div', class_ = 'property-address').text.strip()\n",
    "        zipcode = address.split(' ')[-1]\n",
    "        price = apartment.find('p', class_ = 'property-pricing').text.strip()\n",
    "        bed = apartment.find('p', class_ = 'property-beds').text.strip()\n",
    "        \n",
    "        apt = {\n",
    "            'title': title,\n",
    "            'addtess': address,\n",
    "            'zipcode': zipcode,\n",
    "            'price': price,\n",
    "            'bed': bed\n",
    "        }\n",
    "        aptlist.append(apt)\n",
    "    return"
   ]
  },
  {
   "cell_type": "code",
   "execution_count": 4,
   "id": "3d008f67-3705-4c8e-bae7-dd5e103c0cbc",
   "metadata": {},
   "outputs": [],
   "source": [
    "def run(pages):\n",
    "    if pages == 1:\n",
    "        print (f'extracting for {pages} pages')\n",
    "        c = extract(1)\n",
    "        transform(c)\n",
    "    elif pages > 1:\n",
    "        npages = pages+1\n",
    "        print (f'extracting for {pages} pages')\n",
    "        for i in range(1,npages):\n",
    "            c = extract(i)\n",
    "            transform(c)\n",
    "            print(f'page {i} completed with no errors')\n",
    "    df = pd.DataFrame(aptlist)\n",
    "    print('writing to csv...')\n",
    "    df.to_csv('apartments.csv', index=False)\n",
    "    print('process complete!')\n",
    "    return"
   ]
  },
  {
   "cell_type": "code",
   "execution_count": 5,
   "id": "e9fbda87-d7f2-49ee-971d-91690c26fdb9",
   "metadata": {},
   "outputs": [
    {
     "name": "stdout",
     "output_type": "stream",
     "text": [
      "extracting for 10 pages\n",
      "page 1 completed with no errors\n",
      "page 2 completed with no errors\n",
      "page 3 completed with no errors\n",
      "page 4 completed with no errors\n",
      "page 5 completed with no errors\n",
      "page 6 completed with no errors\n",
      "page 7 completed with no errors\n",
      "page 8 completed with no errors\n",
      "page 9 completed with no errors\n",
      "page 10 completed with no errors\n",
      "writing to csv...\n",
      "process complete!\n"
     ]
    }
   ],
   "source": [
    "run(10)"
   ]
  }
 ],
 "metadata": {
  "kernelspec": {
   "display_name": "Python 3 (ipykernel)",
   "language": "python",
   "name": "python3"
  },
  "language_info": {
   "codemirror_mode": {
    "name": "ipython",
    "version": 3
   },
   "file_extension": ".py",
   "mimetype": "text/x-python",
   "name": "python",
   "nbconvert_exporter": "python",
   "pygments_lexer": "ipython3",
   "version": "3.8.12"
  }
 },
 "nbformat": 4,
 "nbformat_minor": 5
}
